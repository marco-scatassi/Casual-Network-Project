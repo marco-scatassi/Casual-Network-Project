{
  "cells": [
    {
      "cell_type": "code",
      "execution_count": 5,
      "metadata": {
        "id": "bFEE6cVcamHi"
      },
      "outputs": [],
      "source": [
        "%%capture\n",
        "!apt install python3-dev graphviz libgraphviz-dev pkg-config\n",
        "!pip install networkx pygraphviz matplotlib"
      ]
    },
    {
      "cell_type": "code",
      "execution_count": 31,
      "metadata": {
        "id": "2LvgkKcGJtMf"
      },
      "outputs": [],
      "source": [
        "import numpy as np\n",
        "import pandas as pd\n",
        "import networkx as nx\n",
        "\n",
        "from networkx.drawing.nx_agraph import graphviz_layout\n",
        "from typing import List\n",
        "from typing import Tuple\n",
        "from random import random\n",
        "\n",
        "import matplotlib.pyplot as plt\n",
        "plt.rcParams[\"figure.figsize\"] = (8,6)\n",
        "\n",
        "from copy import deepcopy"
      ]
    },
    {
      "cell_type": "code",
      "execution_count": 7,
      "metadata": {
        "id": "mvKlwMvNOrw7"
      },
      "outputs": [],
      "source": [
        "# Get machine epsilon.\n",
        "e = np.finfo(np.float64).eps"
      ]
    },
    {
      "cell_type": "markdown",
      "metadata": {
        "id": "kFpk2Fi6bs1-"
      },
      "source": [
        "# Learning Bayesian Networks from Big Data with Greedy Search"
      ]
    },
    {
      "cell_type": "markdown",
      "metadata": {
        "id": "yNfpPGO0boYG"
      },
      "source": [
        "## Introduction"
      ]
    },
    {
      "cell_type": "markdown",
      "metadata": {
        "id": "uRXEwZKl2j4O"
      },
      "source": [
        "One of the main important task in the causal framework is the **causal discovery task**. The aim of which is to find the **causal model** underline some given observational data. \n",
        "\n"
      ]
    },
    {
      "cell_type": "markdown",
      "source": [
        "\n",
        "In particular, using the tool of **causal network**, the discovery task became the task of identifying:\n",
        "1. a Directed Acyclic Graph (DAG) and \n",
        "2. a set of conditional probability distribution.\n",
        "\n",
        "These two subtasks are referred as:\n",
        "1. structure learning\n",
        "2. parameter learning"
      ],
      "metadata": {
        "id": "FJkJI-qsATsV"
      }
    },
    {
      "cell_type": "markdown",
      "source": [
        "In order to *justify* the use of **causal network** we have to assume that the underlying causal process follows a **probability distribution** $P$. So that, the underlying process can be represented by means of **observational data** sampled from the distribution $P$."
      ],
      "metadata": {
        "id": "DyVGw2gBD-ZZ"
      }
    },
    {
      "cell_type": "markdown",
      "source": [
        "In this notebook the focus will be on the activity of **structure learning**. Essentially, a partial implementation of the \"**Algorithm 1** Greedy Search\" described in the paper [1] will be provided.\n"
      ],
      "metadata": {
        "id": "Teg7Xf1UAVjf"
      }
    },
    {
      "cell_type": "markdown",
      "source": [
        "### Algorithm 1: Greedy Search"
      ],
      "metadata": {
        "id": "bqzfPgrVECrh"
      }
    },
    {
      "cell_type": "markdown",
      "source": [
        "This algorithm belong to the class of the so called **score-based** algorithm. Which means that it follows a certain **methodology to explore** the space of possible DAG using a provided **score function** to evaluate candidate DAGs. "
      ],
      "metadata": {
        "id": "Juojde_GEJTO"
      }
    },
    {
      "cell_type": "markdown",
      "source": [
        "In the following, the portion of the Algorithm 1 that will be implemented in this notebook is described."
      ],
      "metadata": {
        "id": "guJFT3XXsRdu"
      }
    },
    {
      "cell_type": "markdown",
      "source": [
        "---\n",
        "\n",
        "**Alghorithm 1** Greedy Search \n",
        "\n",
        "---\n",
        "\n",
        "**Input**: a data set $D$ from $X$, an initial DAG $G$ (usually the empty DAG),\n",
        "a score function $Score(G,D)$.\n",
        "\n",
        "**Output**: the DAG $G_{max}$ that maximises $Score(G,D)$.\n",
        "1. Compute the score of $G$, $S_G = Score(G,D)$.\n",
        "2. Set $S_{max} = S_G$ and $G_{max} = G$.\n",
        "3. **Hill climbing**: repeat as long as $S_{max}$ increases:\n",
        "  1. for every possible arc addition, deletion or reversal in $G_{max}$ resulting in a DAG:\n",
        "    1. compute the score of the modified DAG $G^∗$, $S_{G^∗} = Score(G^∗,D)$:\n",
        "    2. if $S_{G^∗} > S_{max}$ and $S_{G^∗} > S_G$, set $G = G^∗$ and $S_G = S_{G^∗}$ .\n",
        "  2. if $S_G > S_{max}$, set $S_{max} = S_G$ and $G_{max} = G$.\n",
        "---"
      ],
      "metadata": {
        "id": "QePOVIWRIvCL"
      }
    },
    {
      "cell_type": "markdown",
      "source": [
        "#### Input"
      ],
      "metadata": {
        "id": "3_0YxiaEs3N0"
      }
    },
    {
      "cell_type": "markdown",
      "source": [
        "The inputs needed by the algorithm are:\n",
        "1. an initial DAG $G$, that is the DAG from which the search will start\n",
        "2. a dataset $D$ and a score function $Score(G,D)$; these two elements are necessary to evaluate a DAG. Indeed, the score function provides a mathematical expression that can be used to compare a candidate DAG $G$ with collected data $D$. If the DAG has an high score, it is likely to **correctly represent** the structure of the causal model that has generated the data."
      ],
      "metadata": {
        "id": "GlM_V84JvZ3a"
      }
    },
    {
      "cell_type": "markdown",
      "source": [
        "The score function used in this notebook is the log-likelihood ($LL$) and it will be described in a specific section."
      ],
      "metadata": {
        "id": "OSDjYhW7x52c"
      }
    },
    {
      "cell_type": "markdown",
      "source": [
        "#### Step 1 / 2"
      ],
      "metadata": {
        "id": "vz1ApxfGtn_n"
      }
    },
    {
      "cell_type": "markdown",
      "source": [
        "The first and second steps are simply initialization steps, and they consists in:\n",
        "1. evaluate the initial DAG $G$ \n",
        "2. initialize the value of the variables $S_{max}$ and $G_{max}$. At the end of the procedure these quantity will correspond to the optimal DAG and its value with respect to the chosen score function"
      ],
      "metadata": {
        "id": "yOQB93dW0iJ_"
      }
    },
    {
      "cell_type": "markdown",
      "source": [
        "#### Step 3"
      ],
      "metadata": {
        "id": "epbJm7wmttdE"
      }
    },
    {
      "cell_type": "markdown",
      "source": [
        "A brief description of **hill climbing**. The **hill climbing** is an optimization technique that follows an iteratively procedure. The method produces at each iteration a set of candidate solution modifying the previous one in some way. Then it updates the current solution only if at least one of the new candidates has a better score than the actual solution, otherwise it stops."
      ],
      "metadata": {
        "id": "0hK0Rfk82Ltk"
      }
    },
    {
      "cell_type": "markdown",
      "source": [
        "The **hill climnbing** tecnhique belongs to the so called **local search** methods. Indeed, at each iteration, it explores new possible solutions obtained using a local move starting from the actual one. \n"
      ],
      "metadata": {
        "id": "raFVxFe39vzs"
      }
    },
    {
      "cell_type": "markdown",
      "source": [
        "Furthermore, because it updates the current solutions only if a new, better solution is found, this method is only able to reach certainly the global maximum in **convex optimization** problems. Otherwise, it could get stacked in a **local maxima or minima**."
      ],
      "metadata": {
        "id": "gn7gW9WbBTqc"
      }
    },
    {
      "cell_type": "markdown",
      "source": [
        "In **Algorithm 1** local moves correspond to:\n",
        "- addition\n",
        "- deletion\n",
        "- reversal\n",
        "\n",
        "the step:\n",
        "- 1.1. compute a new candidate DAG applying one of the previous moves\n",
        "- 1.2. verify if the new DAG is better that the best DAG obtained up to this moment and update the variables if necessary \n"
      ],
      "metadata": {
        "id": "V9MhQynMCw3B"
      }
    },
    {
      "cell_type": "markdown",
      "source": [
        "#### Output"
      ],
      "metadata": {
        "id": "3QTfXxr5tHai"
      }
    },
    {
      "cell_type": "markdown",
      "source": [
        "The DAG which maximize the score function, that is a local optimal solution or the global optimal one. "
      ],
      "metadata": {
        "id": "XuGRBk9YFXr8"
      }
    },
    {
      "cell_type": "markdown",
      "source": [
        "### Log-Likelihood (LL)"
      ],
      "metadata": {
        "id": "zLyJ_P1pF_ST"
      }
    },
    {
      "cell_type": "markdown",
      "source": [
        "The score function used in the implementation of **Algorithm 1** is the log-likelihood (LL), which is defined as follows:\n",
        "\n",
        "$$LL(\\mathcal{G}|D)=\\sum_{i=1}^n\\sum_{j=1}^{q_i}\\sum_{k=1}^{r_i}N_{ijk}\\cdot \\log \\left( \\frac{N_{ijk}}{N_{ij*}} \\right)$$\n",
        "\n",
        "where:\n",
        "- $n$ is the number of vertices in $\\mathcal{G}$, or the number of variables in $D$,\n",
        "- $q_i$ is the number of possible configurations of $Pa(X_i)$,\n",
        "- $r_i$ is the number of possible levels of $X_i$,\n",
        "- $N_{ijk}$ is the absolute frequency of observing $X_i$ with the $j$-th configuration and the $k$-th level,\n",
        "- and finally $N_{ij*} = \\sum_{k=1}^{ri} N_{ijk}$."
      ],
      "metadata": {
        "id": "G4L7-XUTGG-x"
      }
    },
    {
      "cell_type": "markdown",
      "source": [
        "We can derive the previous formula recalling that the given dataset $D$ on which applied the **Algorithm 1** is *discrete* and assuming that both $X$ and the $X_i$ are *multinomial* random variables."
      ],
      "metadata": {
        "id": "kOARSs-S_42f"
      }
    },
    {
      "cell_type": "markdown",
      "source": [
        "Then, given a DAG $\\mathcal{G}$ and assuming the probability of underlying process $P$ factorizes according to $\\mathcal{G}$, we can write:\n",
        "\n",
        "$$ P(X|G) =  ∏_{i=1}^n P(X_i|Pa(X_i)) $$"
      ],
      "metadata": {
        "id": "86HPUU_2Du0x"
      }
    },
    {
      "cell_type": "markdown",
      "source": [
        "If the distribution of $X$ dependes on parameter $Θ$, we have:\n",
        "\n",
        "$$ P(X|G,\\Theta) =  ∏_{i=1}^n P(X_i|Pa(X_i), Θ_{X_i}) $$\n",
        "\n",
        "where:\n",
        "\n",
        "$$\\bigcup_{i=1}^n \\Theta_{X_i}=Θ$$"
      ],
      "metadata": {
        "id": "6MoFkL0OKdGH"
      }
    },
    {
      "cell_type": "markdown",
      "source": [
        "Assuming that both $X=(X_1,\\dots,X_n)$ and $X_i$ are multinomial random variables. Local distributions take the form:\n",
        "\n",
        "$$X_i|Pa(X_i) ∼ Mul(\\pi_{ik|j}), \\qquad \\pi_{ik | j} = P(X_i = k |Pa(X_i)= j );$$"
      ],
      "metadata": {
        "id": "hFLVdPdQDVj_"
      }
    },
    {
      "cell_type": "markdown",
      "source": [
        "Obtaining the likelihood function:\n",
        "\n",
        "$$ L(\\mathcal{G}|x) = ∏_{i=1}^n ∏_{j=1}^{q_i} ∏_{k=1}^{r_i} \\pi_{ik|j}^{x_{ijk}}$$\n",
        "\n",
        "Applying the $\\log$:\n",
        "\n",
        "$$LL(\\mathcal{G}|x) = \\log(∏_{i=1}^n ∏_{j=1}^{q_i} ∏_{k=1}^{r_i} \\pi_{ik|j}^{x_{ijk}}) = \\sum_{i=1}^n \\sum_{j=1}^{q_i} \\sum_{k=1}^{r_i} \\log(\\pi_{ik|j}^{x_{ijk}})=\\sum_{i=1}^n \\sum_{j=1}^{q_i} \\sum_{k=1}^{r_i} x_{ijk}\\cdot\\log(\\pi_{ik|j})$$"
      ],
      "metadata": {
        "id": "lCCsgIs6OlIZ"
      }
    },
    {
      "cell_type": "markdown",
      "source": [
        "Given a dataset $D$ obtained sampling from the distribution of $X$, we can substitute $x_{ijk}$ and $\\pi_{ik|j}$ with $N_{ijk}$ and $\\frac{N_{ijk}}{N_{ij*}}$ respectively."
      ],
      "metadata": {
        "id": "iEPYAYGIQjjj"
      }
    },
    {
      "cell_type": "markdown",
      "source": [
        "So the $LL$ score function measure the likelihood of obtaining observed data $D$ if the true structure of the cuasal model is the one represented by the DAG $\\mathcal{G}$."
      ],
      "metadata": {
        "id": "OCv1lhrsRUiX"
      }
    },
    {
      "cell_type": "markdown",
      "metadata": {
        "id": "p5zcVqbGbpte"
      },
      "source": [
        "## Implementation"
      ]
    },
    {
      "cell_type": "markdown",
      "metadata": {
        "id": "6UvSuE-DYKYy"
      },
      "source": [
        "### Read Data and Graph"
      ]
    },
    {
      "cell_type": "code",
      "execution_count": 8,
      "metadata": {
        "id": "4Mu20gfmKpNE"
      },
      "outputs": [],
      "source": [
        "# Read data from file.\n",
        "D = pd.read_csv(\"./final_project_data.csv\", dtype = \"category\")\n",
        "# Build the true graph.\n",
        "G = nx.DiGraph([\n",
        "    (\"A\", \"T\"),\n",
        "    (\"S\", \"L\"),\n",
        "    (\"S\", \"B\"),\n",
        "    (\"B\", \"D\"),\n",
        "    (\"E\", \"D\"),\n",
        "    (\"T\", \"E\"),\n",
        "    (\"L\", \"E\"),\n",
        "    (\"E\", \"X\")\n",
        "])"
      ]
    },
    {
      "cell_type": "code",
      "source": [
        "D.head()"
      ],
      "metadata": {
        "colab": {
          "base_uri": "https://localhost:8080/",
          "height": 206
        },
        "id": "28frXS8Oojkk",
        "outputId": "d59ac7da-5b34-4af1-f3d1-6972758b41c6"
      },
      "execution_count": 9,
      "outputs": [
        {
          "output_type": "execute_result",
          "data": {
            "text/plain": [
              "    A    S    T   L    B    E    X    D\n",
              "0  no  yes   no  no  yes   no   no  yes\n",
              "1  no  yes   no  no   no   no   no   no\n",
              "2  no   no  yes  no   no  yes  yes  yes\n",
              "3  no   no   no  no  yes   no   no  yes\n",
              "4  no   no   no  no   no   no   no  yes"
            ],
            "text/html": [
              "\n",
              "  <div id=\"df-53cbaa8a-c78c-4535-8433-3d34e1118b20\">\n",
              "    <div class=\"colab-df-container\">\n",
              "      <div>\n",
              "<style scoped>\n",
              "    .dataframe tbody tr th:only-of-type {\n",
              "        vertical-align: middle;\n",
              "    }\n",
              "\n",
              "    .dataframe tbody tr th {\n",
              "        vertical-align: top;\n",
              "    }\n",
              "\n",
              "    .dataframe thead th {\n",
              "        text-align: right;\n",
              "    }\n",
              "</style>\n",
              "<table border=\"1\" class=\"dataframe\">\n",
              "  <thead>\n",
              "    <tr style=\"text-align: right;\">\n",
              "      <th></th>\n",
              "      <th>A</th>\n",
              "      <th>S</th>\n",
              "      <th>T</th>\n",
              "      <th>L</th>\n",
              "      <th>B</th>\n",
              "      <th>E</th>\n",
              "      <th>X</th>\n",
              "      <th>D</th>\n",
              "    </tr>\n",
              "  </thead>\n",
              "  <tbody>\n",
              "    <tr>\n",
              "      <th>0</th>\n",
              "      <td>no</td>\n",
              "      <td>yes</td>\n",
              "      <td>no</td>\n",
              "      <td>no</td>\n",
              "      <td>yes</td>\n",
              "      <td>no</td>\n",
              "      <td>no</td>\n",
              "      <td>yes</td>\n",
              "    </tr>\n",
              "    <tr>\n",
              "      <th>1</th>\n",
              "      <td>no</td>\n",
              "      <td>yes</td>\n",
              "      <td>no</td>\n",
              "      <td>no</td>\n",
              "      <td>no</td>\n",
              "      <td>no</td>\n",
              "      <td>no</td>\n",
              "      <td>no</td>\n",
              "    </tr>\n",
              "    <tr>\n",
              "      <th>2</th>\n",
              "      <td>no</td>\n",
              "      <td>no</td>\n",
              "      <td>yes</td>\n",
              "      <td>no</td>\n",
              "      <td>no</td>\n",
              "      <td>yes</td>\n",
              "      <td>yes</td>\n",
              "      <td>yes</td>\n",
              "    </tr>\n",
              "    <tr>\n",
              "      <th>3</th>\n",
              "      <td>no</td>\n",
              "      <td>no</td>\n",
              "      <td>no</td>\n",
              "      <td>no</td>\n",
              "      <td>yes</td>\n",
              "      <td>no</td>\n",
              "      <td>no</td>\n",
              "      <td>yes</td>\n",
              "    </tr>\n",
              "    <tr>\n",
              "      <th>4</th>\n",
              "      <td>no</td>\n",
              "      <td>no</td>\n",
              "      <td>no</td>\n",
              "      <td>no</td>\n",
              "      <td>no</td>\n",
              "      <td>no</td>\n",
              "      <td>no</td>\n",
              "      <td>yes</td>\n",
              "    </tr>\n",
              "  </tbody>\n",
              "</table>\n",
              "</div>\n",
              "      <button class=\"colab-df-convert\" onclick=\"convertToInteractive('df-53cbaa8a-c78c-4535-8433-3d34e1118b20')\"\n",
              "              title=\"Convert this dataframe to an interactive table.\"\n",
              "              style=\"display:none;\">\n",
              "        \n",
              "  <svg xmlns=\"http://www.w3.org/2000/svg\" height=\"24px\"viewBox=\"0 0 24 24\"\n",
              "       width=\"24px\">\n",
              "    <path d=\"M0 0h24v24H0V0z\" fill=\"none\"/>\n",
              "    <path d=\"M18.56 5.44l.94 2.06.94-2.06 2.06-.94-2.06-.94-.94-2.06-.94 2.06-2.06.94zm-11 1L8.5 8.5l.94-2.06 2.06-.94-2.06-.94L8.5 2.5l-.94 2.06-2.06.94zm10 10l.94 2.06.94-2.06 2.06-.94-2.06-.94-.94-2.06-.94 2.06-2.06.94z\"/><path d=\"M17.41 7.96l-1.37-1.37c-.4-.4-.92-.59-1.43-.59-.52 0-1.04.2-1.43.59L10.3 9.45l-7.72 7.72c-.78.78-.78 2.05 0 2.83L4 21.41c.39.39.9.59 1.41.59.51 0 1.02-.2 1.41-.59l7.78-7.78 2.81-2.81c.8-.78.8-2.07 0-2.86zM5.41 20L4 18.59l7.72-7.72 1.47 1.35L5.41 20z\"/>\n",
              "  </svg>\n",
              "      </button>\n",
              "      \n",
              "  <style>\n",
              "    .colab-df-container {\n",
              "      display:flex;\n",
              "      flex-wrap:wrap;\n",
              "      gap: 12px;\n",
              "    }\n",
              "\n",
              "    .colab-df-convert {\n",
              "      background-color: #E8F0FE;\n",
              "      border: none;\n",
              "      border-radius: 50%;\n",
              "      cursor: pointer;\n",
              "      display: none;\n",
              "      fill: #1967D2;\n",
              "      height: 32px;\n",
              "      padding: 0 0 0 0;\n",
              "      width: 32px;\n",
              "    }\n",
              "\n",
              "    .colab-df-convert:hover {\n",
              "      background-color: #E2EBFA;\n",
              "      box-shadow: 0px 1px 2px rgba(60, 64, 67, 0.3), 0px 1px 3px 1px rgba(60, 64, 67, 0.15);\n",
              "      fill: #174EA6;\n",
              "    }\n",
              "\n",
              "    [theme=dark] .colab-df-convert {\n",
              "      background-color: #3B4455;\n",
              "      fill: #D2E3FC;\n",
              "    }\n",
              "\n",
              "    [theme=dark] .colab-df-convert:hover {\n",
              "      background-color: #434B5C;\n",
              "      box-shadow: 0px 1px 3px 1px rgba(0, 0, 0, 0.15);\n",
              "      filter: drop-shadow(0px 1px 2px rgba(0, 0, 0, 0.3));\n",
              "      fill: #FFFFFF;\n",
              "    }\n",
              "  </style>\n",
              "\n",
              "      <script>\n",
              "        const buttonEl =\n",
              "          document.querySelector('#df-53cbaa8a-c78c-4535-8433-3d34e1118b20 button.colab-df-convert');\n",
              "        buttonEl.style.display =\n",
              "          google.colab.kernel.accessAllowed ? 'block' : 'none';\n",
              "\n",
              "        async function convertToInteractive(key) {\n",
              "          const element = document.querySelector('#df-53cbaa8a-c78c-4535-8433-3d34e1118b20');\n",
              "          const dataTable =\n",
              "            await google.colab.kernel.invokeFunction('convertToInteractive',\n",
              "                                                     [key], {});\n",
              "          if (!dataTable) return;\n",
              "\n",
              "          const docLinkHtml = 'Like what you see? Visit the ' +\n",
              "            '<a target=\"_blank\" href=https://colab.research.google.com/notebooks/data_table.ipynb>data table notebook</a>'\n",
              "            + ' to learn more about interactive tables.';\n",
              "          element.innerHTML = '';\n",
              "          dataTable['output_type'] = 'display_data';\n",
              "          await google.colab.output.renderOutput(dataTable, element);\n",
              "          const docLink = document.createElement('div');\n",
              "          docLink.innerHTML = docLinkHtml;\n",
              "          element.appendChild(docLink);\n",
              "        }\n",
              "      </script>\n",
              "    </div>\n",
              "  </div>\n",
              "  "
            ]
          },
          "metadata": {},
          "execution_count": 9
        }
      ]
    },
    {
      "cell_type": "code",
      "execution_count": 10,
      "metadata": {
        "id": "PfEtth_saRVv",
        "colab": {
          "base_uri": "https://localhost:8080/",
          "height": 357
        },
        "outputId": "e703b8da-517d-4edc-b7b9-8fe29148a1dc"
      },
      "outputs": [
        {
          "output_type": "display_data",
          "data": {
            "text/plain": [
              "<Figure size 576x432 with 1 Axes>"
            ],
            "image/png": "[encoded data removed]"
          },
          "metadata": {}
        }
      ],
      "source": [
        "nx.draw_networkx(G, pos = graphviz_layout(G, prog = \"dot\"), with_labels = True)"
      ]
    },
    {
      "cell_type": "markdown",
      "metadata": {
        "id": "amsIARH0U0ON"
      },
      "source": [
        "### Computing the Absolute Frequencies"
      ]
    },
    {
      "cell_type": "code",
      "execution_count": 11,
      "metadata": {
        "id": "wp7863ExJzQ-"
      },
      "outputs": [],
      "source": [
        "# Compute the absolute frequencies N(X, Pa(X) | D).\n",
        "def N(X: str, Z: List[str], D: pd.DataFrame) -> np.ndarray:\n",
        "    # 1. Add a fake column to D, (this is needed if a \n",
        "    # node is child of every other node)\n",
        "    D_ =  deepcopy(D)\n",
        "    D_['fake'] = np.zeros((len(D),1))\n",
        "\n",
        "    # 1. Group data with respect to provided variables\n",
        "    abs_freq = D_.groupby([X]+Z)\n",
        "    \n",
        "    # 2. Count the number of observation in each group\n",
        "    abs_freq = abs_freq.count()['fake']\n",
        "\n",
        "    # 3. Cast the resulting Series in an numpy array\n",
        "    abs_freq = abs_freq.to_numpy(dtype=np.ndarray)\n",
        "\n",
        "    # 4. Re-shaping the array to match the dimension required\n",
        "    if len(Z) == 0:\n",
        "      t = (D[X].unique().size,1)\n",
        "    else:\n",
        "      t = (D[X].unique().size, int(len(abs_freq)/D[X].unique().size))\n",
        "    \n",
        "    abs_freq = abs_freq.reshape(t).T\n",
        "\n",
        "    return abs_freq"
      ]
    },
    {
      "cell_type": "code",
      "execution_count": 12,
      "metadata": {
        "id": "4q2TpDPZUCYj"
      },
      "outputs": [],
      "source": [
        "# Compute N(A | D).\n",
        "np.testing.assert_equal(\n",
        "    N(\"A\", [], D),\n",
        "    np.array([[4958,   42]])\n",
        ")"
      ]
    },
    {
      "cell_type": "code",
      "execution_count": 13,
      "metadata": {
        "id": "1sHR1CA-ULRS"
      },
      "outputs": [],
      "source": [
        "# Compute N(A, [L] | D).\n",
        "np.testing.assert_equal(\n",
        "    N(\"A\", [\"L\"], D),\n",
        "    np.array([\n",
        "        [4632,   38],\n",
        "        [ 326,    4]\n",
        "    ])\n",
        ")"
      ]
    },
    {
      "cell_type": "code",
      "execution_count": 14,
      "metadata": {
        "id": "k8MIKC1sK9g9"
      },
      "outputs": [],
      "source": [
        "# Compute N(A, [L, T] | D).\n",
        "np.testing.assert_equal(\n",
        "    N(\"A\", [\"L\", \"T\"], D),\n",
        "    np.array([\n",
        "        [4594,   36],\n",
        "        [  38,    2],\n",
        "        [ 322,    4],\n",
        "        [   4,    0]\n",
        "    ])\n",
        ")"
      ]
    },
    {
      "cell_type": "markdown",
      "metadata": {
        "id": "FX67s0JXUwP2"
      },
      "source": [
        "### Computing the Log-Likelihood"
      ]
    },
    {
      "cell_type": "code",
      "execution_count": 16,
      "metadata": {
        "id": "cmF6OYiVN1T2"
      },
      "outputs": [],
      "source": [
        "# Compute log-likelihood of LL(X, Pa(X) | D).\n",
        "def ll(X: str, Z: List[str], D: pd.DataFrame) -> float:\n",
        "    # 1. Compute the absolute frequencies\n",
        "    N_ijk = N(X, Z, D)\n",
        "\n",
        "    # 2. Compute the sum of abs. freq. over possible levels of X\n",
        "    N_ijstar = N_ijk.sum(axis=1).reshape((N_ijk.shape[0],1))\n",
        "\n",
        "    # 2.1 Find 0 value (menaning that a particular possible\n",
        "    # configuration of parents is not represented in the data)\n",
        "    zero_index = np.where(N_ijstar == 0)[0]\n",
        "\n",
        "    #2.2 Delete such row to avoid division by 0\n",
        "    N_ijk = np.delete(N_ijk, zero_index, axis = 0)\n",
        "    N_ijstar = np.delete(N_ijstar, zero_index, axis = 0)\n",
        "\n",
        "    # 3. Compute the relative frequencies \n",
        "    rel_freq = (N_ijk/N_ijstar).astype('float')\n",
        "\n",
        "    # 4. Substitute 0 values with 1 (in order to avoid \n",
        "    #    inf value when apply the logarithm)\n",
        "    rel_freq[rel_freq==0] = 1\n",
        "\n",
        "    # 5. Apply the log to relative frequencies\n",
        "    log_rel_freq = np.log(rel_freq)\n",
        "\n",
        "    # 6. Weight the log relative frequencies\n",
        "    weighted_log_rel_freq = (N_ijk * log_rel_freq)\n",
        "\n",
        "    # 7. Compute the log-likelihood \n",
        "    ll = weighted_log_rel_freq.sum()\n",
        "\n",
        "    return ll"
      ]
    },
    {
      "cell_type": "code",
      "execution_count": 17,
      "metadata": {
        "id": "Tt0rCwR0Pvjh"
      },
      "outputs": [],
      "source": [
        "# Compute LL(A | D).\n",
        "np.testing.assert_approx_equal(\n",
        "    ll(\"A\", [], D),\n",
        "    -242.5631\n",
        ")"
      ]
    },
    {
      "cell_type": "code",
      "execution_count": 18,
      "metadata": {
        "id": "vs1WetrHRB0A"
      },
      "outputs": [],
      "source": [
        "# Compute LL(A, [L] | D).\n",
        "np.testing.assert_approx_equal(\n",
        "    ll(\"A\", [\"L\"], D),\n",
        "    -242.3023\n",
        ")"
      ]
    },
    {
      "cell_type": "code",
      "execution_count": 19,
      "metadata": {
        "id": "BYnoZWJjU-32"
      },
      "outputs": [],
      "source": [
        "# Compute LL(A, [L, T] | D).\n",
        "np.testing.assert_approx_equal(\n",
        "    ll(\"A\", [\"L\", \"T\"], D),\n",
        "    -240.2226\n",
        ")"
      ]
    },
    {
      "cell_type": "code",
      "execution_count": 20,
      "metadata": {
        "id": "NX6wM9ClWsNJ"
      },
      "outputs": [],
      "source": [
        "# Compute log-likelihood of LL(G | D).\n",
        "def LL(G: nx.DiGraph, D: pd.DataFrame) -> float:\n",
        "    nodes = G.nodes\n",
        "    ll_ = [ll(X, list(G.predecessors(X)), D) for X in G.nodes]\n",
        "    LL = sum(ll_)\n",
        "    return LL"
      ]
    },
    {
      "cell_type": "code",
      "execution_count": 21,
      "metadata": {
        "id": "mAdLfgKna7iC"
      },
      "outputs": [],
      "source": [
        "# Compute LL(G | D).\n",
        "np.testing.assert_approx_equal(\n",
        "    LL(G, D),\n",
        "    -11033.0871\n",
        ")"
      ]
    },
    {
      "cell_type": "markdown",
      "metadata": {
        "id": "xuvvdrESbSQk"
      },
      "source": [
        "### Implementing Hill-Climbing"
      ]
    },
    {
      "cell_type": "code",
      "source": [
        "def outEdge(G: nx.DiGraph, D: pd.DataFrame):\n",
        "  l = []\n",
        "\n",
        "  for c1 in D.columns:\n",
        "    for c2 in D.columns:\n",
        "      if c1 != c2 and (c1,c2) not in G.edges:\n",
        "        l.append((c1,c2))\n",
        "\n",
        "  return l"
      ],
      "metadata": {
        "id": "x_wpla0aSyqO"
      },
      "execution_count": 23,
      "outputs": []
    },
    {
      "cell_type": "code",
      "execution_count": 41,
      "metadata": {
        "id": "LUplO4qDcTFq"
      },
      "outputs": [],
      "source": [
        "# Hill-Climbing.\n",
        "def HC(D: pd.DataFrame, initG: nx.DiGraph = None, score_func = LL, max_iter: int = 100, verbose: bool = True) -> Tuple[nx.DiGraph, list]:\n",
        "\n",
        "  # Step 1 - initialization\n",
        "  if initG is None:\n",
        "    G = nx.DiGraph()\n",
        "    G.add_nodes_from(D.columns)\n",
        "    SG = score_func(G,D)\n",
        "  else:\n",
        "    G = initG\n",
        "    SG = score_func(G,D)\n",
        "\n",
        "  # Step 2 - initialization\n",
        "  Gmax = G.copy()\n",
        "  Smax = SG\n",
        "\n",
        "  # Step 3 - Hill Climbing\n",
        "  stayInLoop = True\n",
        "  i=0\n",
        "  move = ''\n",
        "  scoreHistory = []\n",
        "\n",
        "  while stayInLoop:\n",
        "    if verbose: print('----------------------',i,'------------------------')\n",
        "    Gstar = G.copy()\n",
        "    SGstar = SG\n",
        "\n",
        "    arcInGraph = deepcopy(Gstar.edges())\n",
        "    arcNotInGraph = outEdge(Gstar, D)\n",
        "\n",
        "    # explore addition moves\n",
        "    for arc in arcNotInGraph:\n",
        "      Gstar.add_edges_from([arc])\n",
        "\n",
        "      if nx.is_directed_acyclic_graph(Gstar):\n",
        "        SGstar = score_func(Gstar, D)\n",
        "        \n",
        "        if SGstar > SG:\n",
        "          move='addition'+str(arc)\n",
        "          G = deepcopy(Gstar)\n",
        "          SG = SGstar\n",
        "        \n",
        "      Gstar.remove_edges_from([arc]) \n",
        "\n",
        "    #explore removal moves\n",
        "    for arc in arcInGraph:\n",
        "      Gstar.remove_edges_from([arc])\n",
        "\n",
        "      if nx.is_directed_acyclic_graph(Gstar):\n",
        "        SGstar = score_func(Gstar, D)\n",
        "        \n",
        "        if SGstar > SG:\n",
        "          move='removal'+str(arc)\n",
        "          G = deepcopy(Gstar)\n",
        "          SG = SGstar\n",
        "      \n",
        "      Gstar.add_edges_from([arc]) \n",
        "\n",
        "    # explore reversal moves\n",
        "    for arc in arcInGraph:\n",
        "      Gstar.remove_edges_from([arc])\n",
        "      Gstar.add_edges_from([(arc[1],arc[0])])\n",
        "\n",
        "      if nx.is_directed_acyclic_graph(Gstar):\n",
        "        SGstar = score_func(Gstar, D)\n",
        "        if SGstar > SG:\n",
        "          move='reversal'+str(arc)\n",
        "          G = deepcopy(Gstar)\n",
        "          SG = SGstar\n",
        "\n",
        "      Gstar.remove_edges_from([(arc[1],arc[0])])\n",
        "      Gstar.add_edges_from([arc])  \n",
        "\n",
        "    # verify stop criterion\n",
        "    if SG > Smax and i < max_iter:\n",
        "      if verbose: print(move, SG, '\\n') \n",
        "      i+=1\n",
        "      Gmax = deepcopy(G)\n",
        "      Smax = SG\n",
        "      scoreHistory.append(Smax)\n",
        "    else:\n",
        "      if verbose: print('exit', SG)\n",
        "      stayInLoop = False\n",
        "  \n",
        "  return(Gmax,scoreHistory)"
      ]
    },
    {
      "cell_type": "code",
      "source": [
        "H, scoreHistory = HC(D)"
      ],
      "metadata": {
        "id": "i2uyIVlP_CCt",
        "outputId": "8e041541-71ca-40ae-ad01-2a5fd0da82b9",
        "colab": {
          "base_uri": "https://localhost:8080/"
        }
      },
      "execution_count": 42,
      "outputs": [
        {
          "output_type": "stream",
          "name": "stdout",
          "text": [
            "---------------------- 0 ------------------------\n",
            "addition('B', 'D') -14002.24978648194 \n",
            "\n",
            "---------------------- 1 ------------------------\n",
            "addition('L', 'E') -12913.154780918298 \n",
            "\n",
            "---------------------- 2 ------------------------\n",
            "addition('E', 'X') -11980.76535150478 \n",
            "\n",
            "---------------------- 3 ------------------------\n",
            "addition('B', 'S') -11529.436949515439 \n",
            "\n",
            "---------------------- 4 ------------------------\n",
            "addition('T', 'E') -11299.207351065748 \n",
            "\n",
            "---------------------- 5 ------------------------\n",
            "addition('E', 'D') -11159.852930289939 \n",
            "\n",
            "---------------------- 6 ------------------------\n",
            "addition('S', 'L') -11034.897167266437 \n",
            "\n",
            "---------------------- 7 ------------------------\n",
            "addition('L', 'D') -11031.782158214999 \n",
            "\n",
            "---------------------- 8 ------------------------\n",
            "addition('A', 'D') -11028.573898957238 \n",
            "\n",
            "---------------------- 9 ------------------------\n",
            "addition('T', 'S') -11025.9108402543 \n",
            "\n",
            "---------------------- 10 ------------------------\n",
            "addition('B', 'L') -11023.713088172735 \n",
            "\n",
            "---------------------- 11 ------------------------\n",
            "addition('A', 'L') -11019.897321961638 \n",
            "\n",
            "---------------------- 12 ------------------------\n",
            "addition('T', 'L') -11016.617266982294 \n",
            "\n",
            "---------------------- 13 ------------------------\n",
            "addition('A', 'T') -11014.807233486714 \n",
            "\n",
            "---------------------- 14 ------------------------\n",
            "addition('B', 'T') -11012.852410067577 \n",
            "\n",
            "---------------------- 15 ------------------------\n",
            "addition('A', 'B') -11011.328562879375 \n",
            "\n",
            "---------------------- 16 ------------------------\n",
            "addition('S', 'D') -11009.945413997155 \n",
            "\n",
            "---------------------- 17 ------------------------\n",
            "addition('X', 'D') -11008.161812633844 \n",
            "\n",
            "---------------------- 18 ------------------------\n",
            "addition('B', 'X') -11007.170910808753 \n",
            "\n",
            "---------------------- 19 ------------------------\n",
            "addition('A', 'X') -11006.277227330072 \n",
            "\n",
            "---------------------- 20 ------------------------\n",
            "addition('S', 'X') -11005.522277623302 \n",
            "\n",
            "---------------------- 21 ------------------------\n",
            "addition('A', 'S') -11004.911958278026 \n",
            "\n",
            "---------------------- 22 ------------------------\n",
            "addition('T', 'D') -11004.473331079374 \n",
            "\n",
            "---------------------- 23 ------------------------\n",
            "addition('T', 'X') -11004.336691505507 \n",
            "\n",
            "---------------------- 24 ------------------------\n",
            "reversal('B', 'T') -11004.336691505503 \n",
            "\n",
            "---------------------- 25 ------------------------\n",
            "exit -11004.336691505503\n"
          ]
        }
      ]
    },
    {
      "cell_type": "code",
      "source": [
        "scoreHistory[-1]"
      ],
      "metadata": {
        "id": "FYnIf0cs0XmJ",
        "outputId": "f2ce6e84-154c-4fca-b86d-d0c22ebffdd3",
        "colab": {
          "base_uri": "https://localhost:8080/"
        }
      },
      "execution_count": 43,
      "outputs": [
        {
          "output_type": "execute_result",
          "data": {
            "text/plain": [
              "-11004.336691505503"
            ]
          },
          "metadata": {},
          "execution_count": 43
        }
      ]
    },
    {
      "cell_type": "code",
      "execution_count": 27,
      "metadata": {
        "id": "bfqerefihDMm",
        "colab": {
          "base_uri": "https://localhost:8080/",
          "height": 357
        },
        "outputId": "c71a4ae5-28e1-4e16-b645-a1af0fe4d8ec"
      },
      "outputs": [
        {
          "output_type": "display_data",
          "data": {
            "text/plain": [
              "<Figure size 576x432 with 1 Axes>"
            ],
            "image/png": "[encoded data removed]"
          },
          "metadata": {}
        }
      ],
      "source": [
        "nx.draw_networkx(H, pos = graphviz_layout(H, prog = \"dot\"), with_labels = True)"
      ]
    },
    {
      "cell_type": "code",
      "source": [
        "G = nx.DiGraph([(\"A\", \"T\"), (\"S\", \"L\"), (\"S\", \"B\"), (\"B\", \"D\"), (\"E\", \"D\"), (\"T\", \"E\"), (\"L\", \"E\"), (\"E\", \"X\")])\n",
        "nx.draw_networkx(G, pos = graphviz_layout(G, prog = \"dot\"), with_labels = True)"
      ],
      "metadata": {
        "id": "WIXbEeID6-s3",
        "outputId": "882b5277-40a1-4dfa-dd69-de7d0e119f02",
        "colab": {
          "base_uri": "https://localhost:8080/",
          "height": 357
        }
      },
      "execution_count": 28,
      "outputs": [
        {
          "output_type": "display_data",
          "data": {
            "text/plain": [
              "<Figure size 576x432 with 1 Axes>"
            ],
            "image/png": "[encoded data removed]"
          },
          "metadata": {}
        }
      ]
    },
    {
      "cell_type": "markdown",
      "metadata": {
        "id": "aScEPxf62j4V"
      },
      "source": [
        "### Testing Hill-Climbing"
      ]
    },
    {
      "cell_type": "code",
      "execution_count": 29,
      "metadata": {
        "id": "1FEOR6Sk2j4V"
      },
      "outputs": [],
      "source": [
        "def graphTest(candidateG: nx.DiGraph, trueG: nx.DiGraph) -> pd.DataFrame:\n",
        "  cols = ['total_edges', 'same_edges', 'missing_edges', 'extra_edges', 'reversed_edges']\n",
        "\n",
        "  total = len(candidateG.edges)\n",
        "  same = len(nx.intersection(candidateG, trueG).edges)\n",
        "  reversed = len(nx.intersection(nx.reverse(candidateG), trueG).edges)\n",
        "  extra = len(nx.difference(candidateG, trueG).edges) - reversed\n",
        "  missing = len(nx.difference(trueG, candidateG).edges) - reversed\n",
        "\n",
        "  result = pd.DataFrame([[total, same, missing, extra, reversed]], columns=cols)\n",
        "  return result"
      ]
    },
    {
      "cell_type": "code",
      "source": [
        "graphTest(H, G)"
      ],
      "metadata": {
        "id": "mNunw3aS370Z",
        "outputId": "db8022e3-bb57-40b2-a227-c3e8f7c1f4d9",
        "colab": {
          "base_uri": "https://localhost:8080/",
          "height": 81
        }
      },
      "execution_count": 30,
      "outputs": [
        {
          "output_type": "execute_result",
          "data": {
            "text/plain": [
              "   total_edges  same_edges  missing_edges  extra_edges  reversed_edges\n",
              "0           24           7              0           16               1"
            ],
            "text/html": [
              "\n",
              "  <div id=\"df-a42eff4c-b5cd-4507-978a-5f0e5629ecc5\">\n",
              "    <div class=\"colab-df-container\">\n",
              "      <div>\n",
              "<style scoped>\n",
              "    .dataframe tbody tr th:only-of-type {\n",
              "        vertical-align: middle;\n",
              "    }\n",
              "\n",
              "    .dataframe tbody tr th {\n",
              "        vertical-align: top;\n",
              "    }\n",
              "\n",
              "    .dataframe thead th {\n",
              "        text-align: right;\n",
              "    }\n",
              "</style>\n",
              "<table border=\"1\" class=\"dataframe\">\n",
              "  <thead>\n",
              "    <tr style=\"text-align: right;\">\n",
              "      <th></th>\n",
              "      <th>total_edges</th>\n",
              "      <th>same_edges</th>\n",
              "      <th>missing_edges</th>\n",
              "      <th>extra_edges</th>\n",
              "      <th>reversed_edges</th>\n",
              "    </tr>\n",
              "  </thead>\n",
              "  <tbody>\n",
              "    <tr>\n",
              "      <th>0</th>\n",
              "      <td>24</td>\n",
              "      <td>7</td>\n",
              "      <td>0</td>\n",
              "      <td>16</td>\n",
              "      <td>1</td>\n",
              "    </tr>\n",
              "  </tbody>\n",
              "</table>\n",
              "</div>\n",
              "      <button class=\"colab-df-convert\" onclick=\"convertToInteractive('df-a42eff4c-b5cd-4507-978a-5f0e5629ecc5')\"\n",
              "              title=\"Convert this dataframe to an interactive table.\"\n",
              "              style=\"display:none;\">\n",
              "        \n",
              "  <svg xmlns=\"http://www.w3.org/2000/svg\" height=\"24px\"viewBox=\"0 0 24 24\"\n",
              "       width=\"24px\">\n",
              "    <path d=\"M0 0h24v24H0V0z\" fill=\"none\"/>\n",
              "    <path d=\"M18.56 5.44l.94 2.06.94-2.06 2.06-.94-2.06-.94-.94-2.06-.94 2.06-2.06.94zm-11 1L8.5 8.5l.94-2.06 2.06-.94-2.06-.94L8.5 2.5l-.94 2.06-2.06.94zm10 10l.94 2.06.94-2.06 2.06-.94-2.06-.94-.94-2.06-.94 2.06-2.06.94z\"/><path d=\"M17.41 7.96l-1.37-1.37c-.4-.4-.92-.59-1.43-.59-.52 0-1.04.2-1.43.59L10.3 9.45l-7.72 7.72c-.78.78-.78 2.05 0 2.83L4 21.41c.39.39.9.59 1.41.59.51 0 1.02-.2 1.41-.59l7.78-7.78 2.81-2.81c.8-.78.8-2.07 0-2.86zM5.41 20L4 18.59l7.72-7.72 1.47 1.35L5.41 20z\"/>\n",
              "  </svg>\n",
              "      </button>\n",
              "      \n",
              "  <style>\n",
              "    .colab-df-container {\n",
              "      display:flex;\n",
              "      flex-wrap:wrap;\n",
              "      gap: 12px;\n",
              "    }\n",
              "\n",
              "    .colab-df-convert {\n",
              "      background-color: #E8F0FE;\n",
              "      border: none;\n",
              "      border-radius: 50%;\n",
              "      cursor: pointer;\n",
              "      display: none;\n",
              "      fill: #1967D2;\n",
              "      height: 32px;\n",
              "      padding: 0 0 0 0;\n",
              "      width: 32px;\n",
              "    }\n",
              "\n",
              "    .colab-df-convert:hover {\n",
              "      background-color: #E2EBFA;\n",
              "      box-shadow: 0px 1px 2px rgba(60, 64, 67, 0.3), 0px 1px 3px 1px rgba(60, 64, 67, 0.15);\n",
              "      fill: #174EA6;\n",
              "    }\n",
              "\n",
              "    [theme=dark] .colab-df-convert {\n",
              "      background-color: #3B4455;\n",
              "      fill: #D2E3FC;\n",
              "    }\n",
              "\n",
              "    [theme=dark] .colab-df-convert:hover {\n",
              "      background-color: #434B5C;\n",
              "      box-shadow: 0px 1px 3px 1px rgba(0, 0, 0, 0.15);\n",
              "      filter: drop-shadow(0px 1px 2px rgba(0, 0, 0, 0.3));\n",
              "      fill: #FFFFFF;\n",
              "    }\n",
              "  </style>\n",
              "\n",
              "      <script>\n",
              "        const buttonEl =\n",
              "          document.querySelector('#df-a42eff4c-b5cd-4507-978a-5f0e5629ecc5 button.colab-df-convert');\n",
              "        buttonEl.style.display =\n",
              "          google.colab.kernel.accessAllowed ? 'block' : 'none';\n",
              "\n",
              "        async function convertToInteractive(key) {\n",
              "          const element = document.querySelector('#df-a42eff4c-b5cd-4507-978a-5f0e5629ecc5');\n",
              "          const dataTable =\n",
              "            await google.colab.kernel.invokeFunction('convertToInteractive',\n",
              "                                                     [key], {});\n",
              "          if (!dataTable) return;\n",
              "\n",
              "          const docLinkHtml = 'Like what you see? Visit the ' +\n",
              "            '<a target=\"_blank\" href=https://colab.research.google.com/notebooks/data_table.ipynb>data table notebook</a>'\n",
              "            + ' to learn more about interactive tables.';\n",
              "          element.innerHTML = '';\n",
              "          dataTable['output_type'] = 'display_data';\n",
              "          await google.colab.output.renderOutput(dataTable, element);\n",
              "          const docLink = document.createElement('div');\n",
              "          docLink.innerHTML = docLinkHtml;\n",
              "          element.appendChild(docLink);\n",
              "        }\n",
              "      </script>\n",
              "    </div>\n",
              "  </div>\n",
              "  "
            ]
          },
          "metadata": {},
          "execution_count": 30
        }
      ]
    },
    {
      "cell_type": "code",
      "source": [
        "seed = 1\n",
        "mapping = {0:'A', 1:'T', 2:'S', 3:'L', 4:'B', 5:'D', 6:'E', 7:'X'}\n",
        "temp = [] \n",
        "\n",
        "for i in range(20):\n",
        "  initG = nx.gn_graph(8, kernel=None, create_using=None, seed=i)\n",
        "  nx.relabel_nodes(initG, mapping, False)\n",
        "\n",
        "  if nx.is_directed_acyclic_graph(initG):\n",
        "    F, _ = HC(D, initG, verbose=False)\n",
        "    temp2 = graphTest(F, G)\n",
        "    temp.append(temp2)\n",
        "\n",
        "results = pd.concat(temp, ignore_index=True)"
      ],
      "metadata": {
        "id": "ewECF_LR5KSF"
      },
      "execution_count": 56,
      "outputs": []
    },
    {
      "cell_type": "code",
      "source": [
        "results"
      ],
      "metadata": {
        "colab": {
          "base_uri": "https://localhost:8080/",
          "height": 676
        },
        "id": "jdczUAm3F84t",
        "outputId": "3c4ccb5d-e4bc-4161-ff1e-2484da08a639"
      },
      "execution_count": 57,
      "outputs": [
        {
          "output_type": "execute_result",
          "data": {
            "text/plain": [
              "    total_edges  same_edges  missing_edges  extra_edges  reversed_edges\n",
              "0            27           4              0           19               4\n",
              "1            24           4              1           17               3\n",
              "2            26           4              0           18               4\n",
              "3            27           4              0           19               4\n",
              "4            25           7              0           17               1\n",
              "5            26           1              0           18               7\n",
              "6            28           4              0           20               4\n",
              "7            26           6              0           18               2\n",
              "8            26           4              0           18               4\n",
              "9            24           4              1           17               3\n",
              "10           26           4              0           18               4\n",
              "11           24           3              2           18               3\n",
              "12           27           6              0           19               2\n",
              "13           24           4              1           17               3\n",
              "14           27           3              0           19               5\n",
              "15           24           6              0           16               2\n",
              "16           25           5              0           17               3\n",
              "17           26           3              0           18               5\n",
              "18           26           6              0           18               2\n",
              "19           27           3              0           19               5"
            ],
            "text/html": [
              "\n",
              "  <div id=\"df-3cdcf661-0912-4b88-b11d-1ae2d8f3df89\">\n",
              "    <div class=\"colab-df-container\">\n",
              "      <div>\n",
              "<style scoped>\n",
              "    .dataframe tbody tr th:only-of-type {\n",
              "        vertical-align: middle;\n",
              "    }\n",
              "\n",
              "    .dataframe tbody tr th {\n",
              "        vertical-align: top;\n",
              "    }\n",
              "\n",
              "    .dataframe thead th {\n",
              "        text-align: right;\n",
              "    }\n",
              "</style>\n",
              "<table border=\"1\" class=\"dataframe\">\n",
              "  <thead>\n",
              "    <tr style=\"text-align: right;\">\n",
              "      <th></th>\n",
              "      <th>total_edges</th>\n",
              "      <th>same_edges</th>\n",
              "      <th>missing_edges</th>\n",
              "      <th>extra_edges</th>\n",
              "      <th>reversed_edges</th>\n",
              "    </tr>\n",
              "  </thead>\n",
              "  <tbody>\n",
              "    <tr>\n",
              "      <th>0</th>\n",
              "      <td>27</td>\n",
              "      <td>4</td>\n",
              "      <td>0</td>\n",
              "      <td>19</td>\n",
              "      <td>4</td>\n",
              "    </tr>\n",
              "    <tr>\n",
              "      <th>1</th>\n",
              "      <td>24</td>\n",
              "      <td>4</td>\n",
              "      <td>1</td>\n",
              "      <td>17</td>\n",
              "      <td>3</td>\n",
              "    </tr>\n",
              "    <tr>\n",
              "      <th>2</th>\n",
              "      <td>26</td>\n",
              "      <td>4</td>\n",
              "      <td>0</td>\n",
              "      <td>18</td>\n",
              "      <td>4</td>\n",
              "    </tr>\n",
              "    <tr>\n",
              "      <th>3</th>\n",
              "      <td>27</td>\n",
              "      <td>4</td>\n",
              "      <td>0</td>\n",
              "      <td>19</td>\n",
              "      <td>4</td>\n",
              "    </tr>\n",
              "    <tr>\n",
              "      <th>4</th>\n",
              "      <td>25</td>\n",
              "      <td>7</td>\n",
              "      <td>0</td>\n",
              "      <td>17</td>\n",
              "      <td>1</td>\n",
              "    </tr>\n",
              "    <tr>\n",
              "      <th>5</th>\n",
              "      <td>26</td>\n",
              "      <td>1</td>\n",
              "      <td>0</td>\n",
              "      <td>18</td>\n",
              "      <td>7</td>\n",
              "    </tr>\n",
              "    <tr>\n",
              "      <th>6</th>\n",
              "      <td>28</td>\n",
              "      <td>4</td>\n",
              "      <td>0</td>\n",
              "      <td>20</td>\n",
              "      <td>4</td>\n",
              "    </tr>\n",
              "    <tr>\n",
              "      <th>7</th>\n",
              "      <td>26</td>\n",
              "      <td>6</td>\n",
              "      <td>0</td>\n",
              "      <td>18</td>\n",
              "      <td>2</td>\n",
              "    </tr>\n",
              "    <tr>\n",
              "      <th>8</th>\n",
              "      <td>26</td>\n",
              "      <td>4</td>\n",
              "      <td>0</td>\n",
              "      <td>18</td>\n",
              "      <td>4</td>\n",
              "    </tr>\n",
              "    <tr>\n",
              "      <th>9</th>\n",
              "      <td>24</td>\n",
              "      <td>4</td>\n",
              "      <td>1</td>\n",
              "      <td>17</td>\n",
              "      <td>3</td>\n",
              "    </tr>\n",
              "    <tr>\n",
              "      <th>10</th>\n",
              "      <td>26</td>\n",
              "      <td>4</td>\n",
              "      <td>0</td>\n",
              "      <td>18</td>\n",
              "      <td>4</td>\n",
              "    </tr>\n",
              "    <tr>\n",
              "      <th>11</th>\n",
              "      <td>24</td>\n",
              "      <td>3</td>\n",
              "      <td>2</td>\n",
              "      <td>18</td>\n",
              "      <td>3</td>\n",
              "    </tr>\n",
              "    <tr>\n",
              "      <th>12</th>\n",
              "      <td>27</td>\n",
              "      <td>6</td>\n",
              "      <td>0</td>\n",
              "      <td>19</td>\n",
              "      <td>2</td>\n",
              "    </tr>\n",
              "    <tr>\n",
              "      <th>13</th>\n",
              "      <td>24</td>\n",
              "      <td>4</td>\n",
              "      <td>1</td>\n",
              "      <td>17</td>\n",
              "      <td>3</td>\n",
              "    </tr>\n",
              "    <tr>\n",
              "      <th>14</th>\n",
              "      <td>27</td>\n",
              "      <td>3</td>\n",
              "      <td>0</td>\n",
              "      <td>19</td>\n",
              "      <td>5</td>\n",
              "    </tr>\n",
              "    <tr>\n",
              "      <th>15</th>\n",
              "      <td>24</td>\n",
              "      <td>6</td>\n",
              "      <td>0</td>\n",
              "      <td>16</td>\n",
              "      <td>2</td>\n",
              "    </tr>\n",
              "    <tr>\n",
              "      <th>16</th>\n",
              "      <td>25</td>\n",
              "      <td>5</td>\n",
              "      <td>0</td>\n",
              "      <td>17</td>\n",
              "      <td>3</td>\n",
              "    </tr>\n",
              "    <tr>\n",
              "      <th>17</th>\n",
              "      <td>26</td>\n",
              "      <td>3</td>\n",
              "      <td>0</td>\n",
              "      <td>18</td>\n",
              "      <td>5</td>\n",
              "    </tr>\n",
              "    <tr>\n",
              "      <th>18</th>\n",
              "      <td>26</td>\n",
              "      <td>6</td>\n",
              "      <td>0</td>\n",
              "      <td>18</td>\n",
              "      <td>2</td>\n",
              "    </tr>\n",
              "    <tr>\n",
              "      <th>19</th>\n",
              "      <td>27</td>\n",
              "      <td>3</td>\n",
              "      <td>0</td>\n",
              "      <td>19</td>\n",
              "      <td>5</td>\n",
              "    </tr>\n",
              "  </tbody>\n",
              "</table>\n",
              "</div>\n",
              "      <button class=\"colab-df-convert\" onclick=\"convertToInteractive('df-3cdcf661-0912-4b88-b11d-1ae2d8f3df89')\"\n",
              "              title=\"Convert this dataframe to an interactive table.\"\n",
              "              style=\"display:none;\">\n",
              "        \n",
              "  <svg xmlns=\"http://www.w3.org/2000/svg\" height=\"24px\"viewBox=\"0 0 24 24\"\n",
              "       width=\"24px\">\n",
              "    <path d=\"M0 0h24v24H0V0z\" fill=\"none\"/>\n",
              "    <path d=\"M18.56 5.44l.94 2.06.94-2.06 2.06-.94-2.06-.94-.94-2.06-.94 2.06-2.06.94zm-11 1L8.5 8.5l.94-2.06 2.06-.94-2.06-.94L8.5 2.5l-.94 2.06-2.06.94zm10 10l.94 2.06.94-2.06 2.06-.94-2.06-.94-.94-2.06-.94 2.06-2.06.94z\"/><path d=\"M17.41 7.96l-1.37-1.37c-.4-.4-.92-.59-1.43-.59-.52 0-1.04.2-1.43.59L10.3 9.45l-7.72 7.72c-.78.78-.78 2.05 0 2.83L4 21.41c.39.39.9.59 1.41.59.51 0 1.02-.2 1.41-.59l7.78-7.78 2.81-2.81c.8-.78.8-2.07 0-2.86zM5.41 20L4 18.59l7.72-7.72 1.47 1.35L5.41 20z\"/>\n",
              "  </svg>\n",
              "      </button>\n",
              "      \n",
              "  <style>\n",
              "    .colab-df-container {\n",
              "      display:flex;\n",
              "      flex-wrap:wrap;\n",
              "      gap: 12px;\n",
              "    }\n",
              "\n",
              "    .colab-df-convert {\n",
              "      background-color: #E8F0FE;\n",
              "      border: none;\n",
              "      border-radius: 50%;\n",
              "      cursor: pointer;\n",
              "      display: none;\n",
              "      fill: #1967D2;\n",
              "      height: 32px;\n",
              "      padding: 0 0 0 0;\n",
              "      width: 32px;\n",
              "    }\n",
              "\n",
              "    .colab-df-convert:hover {\n",
              "      background-color: #E2EBFA;\n",
              "      box-shadow: 0px 1px 2px rgba(60, 64, 67, 0.3), 0px 1px 3px 1px rgba(60, 64, 67, 0.15);\n",
              "      fill: #174EA6;\n",
              "    }\n",
              "\n",
              "    [theme=dark] .colab-df-convert {\n",
              "      background-color: #3B4455;\n",
              "      fill: #D2E3FC;\n",
              "    }\n",
              "\n",
              "    [theme=dark] .colab-df-convert:hover {\n",
              "      background-color: #434B5C;\n",
              "      box-shadow: 0px 1px 3px 1px rgba(0, 0, 0, 0.15);\n",
              "      filter: drop-shadow(0px 1px 2px rgba(0, 0, 0, 0.3));\n",
              "      fill: #FFFFFF;\n",
              "    }\n",
              "  </style>\n",
              "\n",
              "      <script>\n",
              "        const buttonEl =\n",
              "          document.querySelector('#df-3cdcf661-0912-4b88-b11d-1ae2d8f3df89 button.colab-df-convert');\n",
              "        buttonEl.style.display =\n",
              "          google.colab.kernel.accessAllowed ? 'block' : 'none';\n",
              "\n",
              "        async function convertToInteractive(key) {\n",
              "          const element = document.querySelector('#df-3cdcf661-0912-4b88-b11d-1ae2d8f3df89');\n",
              "          const dataTable =\n",
              "            await google.colab.kernel.invokeFunction('convertToInteractive',\n",
              "                                                     [key], {});\n",
              "          if (!dataTable) return;\n",
              "\n",
              "          const docLinkHtml = 'Like what you see? Visit the ' +\n",
              "            '<a target=\"_blank\" href=https://colab.research.google.com/notebooks/data_table.ipynb>data table notebook</a>'\n",
              "            + ' to learn more about interactive tables.';\n",
              "          element.innerHTML = '';\n",
              "          dataTable['output_type'] = 'display_data';\n",
              "          await google.colab.output.renderOutput(dataTable, element);\n",
              "          const docLink = document.createElement('div');\n",
              "          docLink.innerHTML = docLinkHtml;\n",
              "          element.appendChild(docLink);\n",
              "        }\n",
              "      </script>\n",
              "    </div>\n",
              "  </div>\n",
              "  "
            ]
          },
          "metadata": {},
          "execution_count": 57
        }
      ]
    },
    {
      "cell_type": "code",
      "source": [
        "results.boxplot()"
      ],
      "metadata": {
        "colab": {
          "base_uri": "https://localhost:8080/",
          "height": 392
        },
        "id": "_CuuT-XDRUxp",
        "outputId": "11b26c2b-138f-4913-8217-abcbca8a2a21"
      },
      "execution_count": 58,
      "outputs": [
        {
          "output_type": "execute_result",
          "data": {
            "text/plain": [
              "<matplotlib.axes._subplots.AxesSubplot at 0x7fc56811bf10>"
            ]
          },
          "metadata": {},
          "execution_count": 58
        },
        {
          "output_type": "display_data",
          "data": {
            "text/plain": [
              "<Figure size 576x432 with 1 Axes>"
            ],
            "image/png": "[encoded data removed]"
          },
          "metadata": {
            "needs_background": "light"
          }
        }
      ]
    },
    {
      "cell_type": "markdown",
      "source": [
        "We can observe that the HC algorithm lead always to graphs with a very large number of edges w.r.t. the true graph G. Extra edges are greater than 15 in every run with a different initial graph. \n",
        "\n",
        "This, togheter with the knowledge that real graphs tend to have few connections, suggest the necessity to control for the growth of the graph.\n",
        "\n",
        "We observe also that the empty graph as initialization gives the best result."
      ],
      "metadata": {
        "id": "utsbPlDXRryc"
      }
    },
    {
      "cell_type": "markdown",
      "source": [
        "## Reference"
      ],
      "metadata": {
        "id": "E9CYaejvzMfy"
      }
    },
    {
      "cell_type": "markdown",
      "source": [
        "[1] [Marco Scutari, Claudia Vitolo, Allan Tucker. *Learning Bayesian networks from big data with greedy search:\n",
        "computational complexity and efficient implementation*, Statistics and Computing (2019) 29:1095–1108, *https://doi.org/10.1007/s11222-019-09857-1*]"
      ],
      "metadata": {
        "id": "6WF5KQqYCJFi"
      }
    }
  ],
  "metadata": {
    "colab": {
      "provenance": [],
      "toc_visible": true
    },
    "kernelspec": {
      "display_name": "Python 3",
      "language": "python",
      "name": "python3"
    },
    "language_info": {
      "codemirror_mode": {
        "name": "ipython",
        "version": 3
      },
      "file_extension": ".py",
      "mimetype": "text/x-python",
      "name": "python",
      "nbconvert_exporter": "python",
      "pygments_lexer": "ipython3",
      "version": "3.10.7"
    },
    "vscode": {
      "interpreter": {
        "hash": "af153e239d61b5c0d363f35fe8a0509d492506f382d017c98fa3fb49fce70a72"
      }
    }
  },
  "nbformat": 4,
  "nbformat_minor": 0
}

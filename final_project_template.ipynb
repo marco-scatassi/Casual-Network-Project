{
 "cells": [
  {
   "cell_type": "code",
   "execution_count": 1,
   "metadata": {
    "id": "bFEE6cVcamHi"
   },
   "outputs": [],
   "source": [
    "%%capture\n",
    "%apt install python3-dev graphviz libgraphviz-dev pkg-config\n",
    "%pip install networkx pygraphviz matplotlib"
   ]
  },
  {
   "cell_type": "code",
   "execution_count": null,
   "metadata": {
    "id": "2LvgkKcGJtMf"
   },
   "outputs": [],
   "source": [
    "import numpy as np\n",
    "import pandas as pd\n",
    "import networkx as nx\n",
    "\n",
    "from networkx.drawing.nx_agraph import graphviz_layout\n",
    "from typing import List"
   ]
  },
  {
   "cell_type": "code",
   "execution_count": null,
   "metadata": {
    "id": "mvKlwMvNOrw7"
   },
   "outputs": [],
   "source": [
    "# Get machine epsilon.\n",
    "e = np.finfo(np.float64).eps"
   ]
  },
  {
   "cell_type": "markdown",
   "metadata": {
    "id": "kFpk2Fi6bs1-"
   },
   "source": [
    "# Learning Bayesian Networks from Big Data with Greedy Search"
   ]
  },
  {
   "cell_type": "markdown",
   "metadata": {
    "id": "yNfpPGO0boYG"
   },
   "source": [
    "## Introduction"
   ]
  },
  {
   "cell_type": "markdown",
   "metadata": {},
   "source": [
    "\\* A very well written introduction by you... *"
   ]
  },
  {
   "cell_type": "markdown",
   "metadata": {
    "id": "p5zcVqbGbpte"
   },
   "source": [
    "## Implementation"
   ]
  },
  {
   "cell_type": "markdown",
   "metadata": {
    "id": "6UvSuE-DYKYy"
   },
   "source": [
    "### Read Data and Graph"
   ]
  },
  {
   "cell_type": "code",
   "execution_count": null,
   "metadata": {
    "id": "4Mu20gfmKpNE"
   },
   "outputs": [],
   "source": [
    "# Read data from file.\n",
    "D = pd.read_csv(\"./final_project_data.csv\", dtype = \"category\")\n",
    "# Build the true graph.\n",
    "G = nx.DiGraph([\n",
    "    (\"A\", \"T\"),\n",
    "    (\"S\", \"L\"),\n",
    "    (\"S\", \"B\"),\n",
    "    (\"B\", \"D\"),\n",
    "    (\"E\", \"D\"),\n",
    "    (\"T\", \"E\"),\n",
    "    (\"L\", \"E\"),\n",
    "    (\"E\", \"X\")\n",
    "])"
   ]
  },
  {
   "cell_type": "code",
   "execution_count": null,
   "metadata": {
    "colab": {
     "base_uri": "https://localhost:8080/",
     "height": 248
    },
    "id": "PfEtth_saRVv",
    "outputId": "ff858006-9beb-4ca7-a614-30f765a8f6d0"
   },
   "outputs": [],
   "source": [
    "nx.draw_networkx(G, pos = graphviz_layout(G, prog = \"dot\"), with_labels = True)"
   ]
  },
  {
   "cell_type": "markdown",
   "metadata": {
    "id": "amsIARH0U0ON"
   },
   "source": [
    "### Computing the Absolute Frequencies"
   ]
  },
  {
   "cell_type": "code",
   "execution_count": null,
   "metadata": {
    "id": "wp7863ExJzQ-"
   },
   "outputs": [],
   "source": [
    "# Compute the absolute frequencies N(X, Pa(X) | D).\n",
    "def N(X: str, Z: List[str], D: pd.DataFrame) -> np.ndarray:\n",
    "    pass"
   ]
  },
  {
   "cell_type": "code",
   "execution_count": null,
   "metadata": {
    "id": "4q2TpDPZUCYj"
   },
   "outputs": [],
   "source": [
    "# Compute N(A | D).\n",
    "np.testing.assert_equal(\n",
    "    N(\"A\", [], D),\n",
    "    np.array([[4958,   42]])\n",
    ")"
   ]
  },
  {
   "cell_type": "code",
   "execution_count": null,
   "metadata": {
    "id": "1sHR1CA-ULRS"
   },
   "outputs": [],
   "source": [
    "# Compute N(A, [L] | D).\n",
    "np.testing.assert_equal(\n",
    "    N(\"A\", [\"L\"], D),\n",
    "    np.array([\n",
    "        [4632,   38],\n",
    "        [ 326,    4]\n",
    "    ])\n",
    ")"
   ]
  },
  {
   "cell_type": "code",
   "execution_count": null,
   "metadata": {
    "id": "k8MIKC1sK9g9"
   },
   "outputs": [],
   "source": [
    "# Compute N(A, [L, T] | D).\n",
    "np.testing.assert_equal(\n",
    "    N(\"A\", [\"L\", \"T\"], D),\n",
    "    np.array([\n",
    "        [4594,   36],\n",
    "        [  38,    2],\n",
    "        [ 322,    4],\n",
    "        [   4,    0]\n",
    "    ])\n",
    ")"
   ]
  },
  {
   "cell_type": "markdown",
   "metadata": {
    "id": "FX67s0JXUwP2"
   },
   "source": [
    "### Computing the Log-Likelihood"
   ]
  },
  {
   "cell_type": "code",
   "execution_count": null,
   "metadata": {
    "id": "cmF6OYiVN1T2"
   },
   "outputs": [],
   "source": [
    "# Compute log-likelihood of LL(X, Pa(X) | D).\n",
    "def ll(X: str, Z: List[str], D: pd.DataFrame) -> float:\n",
    "    pass"
   ]
  },
  {
   "cell_type": "code",
   "execution_count": null,
   "metadata": {
    "id": "Tt0rCwR0Pvjh"
   },
   "outputs": [],
   "source": [
    "# Compute LL(A | D).\n",
    "np.testing.assert_approx_equal(\n",
    "    ll(\"A\", [], D),\n",
    "    -242.5631\n",
    ")"
   ]
  },
  {
   "cell_type": "code",
   "execution_count": null,
   "metadata": {
    "id": "vs1WetrHRB0A"
   },
   "outputs": [],
   "source": [
    "# Compute LL(A, [L] | D).\n",
    "np.testing.assert_approx_equal(\n",
    "    ll(\"A\", [\"L\"], D),\n",
    "    -242.3023\n",
    ")"
   ]
  },
  {
   "cell_type": "code",
   "execution_count": null,
   "metadata": {
    "id": "BYnoZWJjU-32"
   },
   "outputs": [],
   "source": [
    "# Compute LL(A, [L, T] | D).\n",
    "np.testing.assert_approx_equal(\n",
    "    ll(\"A\", [\"L\", \"T\"], D),\n",
    "    -240.2226\n",
    ")"
   ]
  },
  {
   "cell_type": "code",
   "execution_count": null,
   "metadata": {
    "id": "NX6wM9ClWsNJ"
   },
   "outputs": [],
   "source": [
    "# Compute log-likelihood of LL(G | D).\n",
    "def LL(G: nx.DiGraph, D: pd.DataFrame) -> float:\n",
    "    pass"
   ]
  },
  {
   "cell_type": "code",
   "execution_count": null,
   "metadata": {
    "id": "mAdLfgKna7iC"
   },
   "outputs": [],
   "source": [
    "# Compute LL(G | D).\n",
    "np.testing.assert_approx_equal(\n",
    "    LL(G, D),\n",
    "    -11033.0871\n",
    ")"
   ]
  },
  {
   "cell_type": "markdown",
   "metadata": {
    "id": "xuvvdrESbSQk"
   },
   "source": [
    "### Implementing Hill-Climbing"
   ]
  },
  {
   "cell_type": "code",
   "execution_count": null,
   "metadata": {
    "id": "LUplO4qDcTFq"
   },
   "outputs": [],
   "source": [
    "# Hill-Climbing.\n",
    "def HC(D: pd.DataFrame) -> nx.DiGraph:\n",
    "    pass"
   ]
  },
  {
   "cell_type": "code",
   "execution_count": null,
   "metadata": {
    "id": "KSmiCV42c-IQ"
   },
   "outputs": [],
   "source": [
    "H = HC(D)"
   ]
  },
  {
   "cell_type": "code",
   "execution_count": null,
   "metadata": {
    "id": "bfqerefihDMm"
   },
   "outputs": [],
   "source": [
    "nx.draw_networkx(H, pos = graphviz_layout(H, prog = \"dot\"), with_labels = True)"
   ]
  },
  {
   "cell_type": "markdown",
   "metadata": {},
   "source": [
    "### Testing Hill-Climbing"
   ]
  },
  {
   "cell_type": "code",
   "execution_count": null,
   "metadata": {},
   "outputs": [],
   "source": []
  }
 ],
 "metadata": {
  "colab": {
   "provenance": []
  },
  "kernelspec": {
   "display_name": "Python 3",
   "language": "python",
   "name": "python3"
  },
  "language_info": {
   "codemirror_mode": {
    "name": "ipython",
    "version": 3
   },
   "file_extension": ".py",
   "mimetype": "text/x-python",
   "name": "python",
   "nbconvert_exporter": "python",
   "pygments_lexer": "ipython3",
   "version": "3.10.7"
  },
  "vscode": {
   "interpreter": {
    "hash": "af153e239d61b5c0d363f35fe8a0509d492506f382d017c98fa3fb49fce70a72"
   }
  }
 },
 "nbformat": 4,
 "nbformat_minor": 1
}
